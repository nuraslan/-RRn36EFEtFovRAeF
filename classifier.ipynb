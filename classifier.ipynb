{
 "cells": [
  {
   "cell_type": "code",
   "execution_count": 1,
   "metadata": {},
   "outputs": [],
   "source": [
    "import numpy as np\n",
    "import pandas as pd\n",
    "from sklearn import preprocessing"
   ]
  },
  {
   "cell_type": "code",
   "execution_count": 2,
   "metadata": {},
   "outputs": [
    {
     "data": {
      "text/html": [
       "<div>\n",
       "<style scoped>\n",
       "    .dataframe tbody tr th:only-of-type {\n",
       "        vertical-align: middle;\n",
       "    }\n",
       "\n",
       "    .dataframe tbody tr th {\n",
       "        vertical-align: top;\n",
       "    }\n",
       "\n",
       "    .dataframe thead th {\n",
       "        text-align: right;\n",
       "    }\n",
       "</style>\n",
       "<table border=\"1\" class=\"dataframe\">\n",
       "  <thead>\n",
       "    <tr style=\"text-align: right;\">\n",
       "      <th></th>\n",
       "      <th>age</th>\n",
       "      <th>job</th>\n",
       "      <th>marital</th>\n",
       "      <th>education</th>\n",
       "      <th>default</th>\n",
       "      <th>balance</th>\n",
       "      <th>housing</th>\n",
       "      <th>loan</th>\n",
       "      <th>contact</th>\n",
       "      <th>day</th>\n",
       "      <th>month</th>\n",
       "      <th>duration</th>\n",
       "      <th>campaign</th>\n",
       "      <th>y</th>\n",
       "    </tr>\n",
       "  </thead>\n",
       "  <tbody>\n",
       "    <tr>\n",
       "      <th>0</th>\n",
       "      <td>58</td>\n",
       "      <td>management</td>\n",
       "      <td>married</td>\n",
       "      <td>tertiary</td>\n",
       "      <td>no</td>\n",
       "      <td>2143</td>\n",
       "      <td>yes</td>\n",
       "      <td>no</td>\n",
       "      <td>unknown</td>\n",
       "      <td>5</td>\n",
       "      <td>may</td>\n",
       "      <td>261</td>\n",
       "      <td>1</td>\n",
       "      <td>no</td>\n",
       "    </tr>\n",
       "    <tr>\n",
       "      <th>1</th>\n",
       "      <td>44</td>\n",
       "      <td>technician</td>\n",
       "      <td>single</td>\n",
       "      <td>secondary</td>\n",
       "      <td>no</td>\n",
       "      <td>29</td>\n",
       "      <td>yes</td>\n",
       "      <td>no</td>\n",
       "      <td>unknown</td>\n",
       "      <td>5</td>\n",
       "      <td>may</td>\n",
       "      <td>151</td>\n",
       "      <td>1</td>\n",
       "      <td>no</td>\n",
       "    </tr>\n",
       "    <tr>\n",
       "      <th>2</th>\n",
       "      <td>33</td>\n",
       "      <td>entrepreneur</td>\n",
       "      <td>married</td>\n",
       "      <td>secondary</td>\n",
       "      <td>no</td>\n",
       "      <td>2</td>\n",
       "      <td>yes</td>\n",
       "      <td>yes</td>\n",
       "      <td>unknown</td>\n",
       "      <td>5</td>\n",
       "      <td>may</td>\n",
       "      <td>76</td>\n",
       "      <td>1</td>\n",
       "      <td>no</td>\n",
       "    </tr>\n",
       "    <tr>\n",
       "      <th>3</th>\n",
       "      <td>47</td>\n",
       "      <td>blue-collar</td>\n",
       "      <td>married</td>\n",
       "      <td>unknown</td>\n",
       "      <td>no</td>\n",
       "      <td>1506</td>\n",
       "      <td>yes</td>\n",
       "      <td>no</td>\n",
       "      <td>unknown</td>\n",
       "      <td>5</td>\n",
       "      <td>may</td>\n",
       "      <td>92</td>\n",
       "      <td>1</td>\n",
       "      <td>no</td>\n",
       "    </tr>\n",
       "    <tr>\n",
       "      <th>4</th>\n",
       "      <td>33</td>\n",
       "      <td>unknown</td>\n",
       "      <td>single</td>\n",
       "      <td>unknown</td>\n",
       "      <td>no</td>\n",
       "      <td>1</td>\n",
       "      <td>no</td>\n",
       "      <td>no</td>\n",
       "      <td>unknown</td>\n",
       "      <td>5</td>\n",
       "      <td>may</td>\n",
       "      <td>198</td>\n",
       "      <td>1</td>\n",
       "      <td>no</td>\n",
       "    </tr>\n",
       "  </tbody>\n",
       "</table>\n",
       "</div>"
      ],
      "text/plain": [
       "   age           job  marital  education default  balance housing loan  \\\n",
       "0   58    management  married   tertiary      no     2143     yes   no   \n",
       "1   44    technician   single  secondary      no       29     yes   no   \n",
       "2   33  entrepreneur  married  secondary      no        2     yes  yes   \n",
       "3   47   blue-collar  married    unknown      no     1506     yes   no   \n",
       "4   33       unknown   single    unknown      no        1      no   no   \n",
       "\n",
       "   contact  day month  duration  campaign   y  \n",
       "0  unknown    5   may       261         1  no  \n",
       "1  unknown    5   may       151         1  no  \n",
       "2  unknown    5   may        76         1  no  \n",
       "3  unknown    5   may        92         1  no  \n",
       "4  unknown    5   may       198         1  no  "
      ]
     },
     "execution_count": 2,
     "metadata": {},
     "output_type": "execute_result"
    }
   ],
   "source": [
    "data = pd.read_csv('term-deposit-marketing-2020.csv')\n",
    "#data.count()\n",
    "data.head()\n",
    "\n",
    "#print(data[\"age\"].max())"
   ]
  },
  {
   "cell_type": "code",
   "execution_count": 3,
   "metadata": {},
   "outputs": [],
   "source": [
    "#preprocess data\n",
    "#one hot encoding & label enconding for the categorical variables\n",
    "\n",
    "\n",
    "# X: features, y:target variable\n",
    "\n",
    "data['housing'].replace(to_replace=['no','yes'], value=[0,1],inplace=True)\n",
    "data['loan'].replace(to_replace=['no','yes'], value=[0,1],inplace=True)\n",
    "data['default'].replace(to_replace=['no','yes'], value=[0,1],inplace=True)\n",
    "\n",
    "\n",
    "\n",
    "X = data[['age', 'default', 'balance', 'housing', 'loan', 'day',  'duration', 'campaign']]\n",
    "\n",
    "X = pd.concat([X, pd.get_dummies(data['month'])], axis=1)\n",
    "\n",
    "X = pd.concat([X, pd.get_dummies(data['job'])], axis=1)\n",
    "\n",
    "X = pd.concat([X, pd.get_dummies(data['marital'])], axis=1)\n",
    "\n",
    "X = pd.concat([X, pd.get_dummies(data['education'])], axis=1)\n",
    "\n",
    "\n",
    "X = pd.concat([X, pd.get_dummies(data['contact'])], axis=1)\n",
    "\n",
    "\n",
    "y = data['y']   \n"
   ]
  },
  {
   "cell_type": "code",
   "execution_count": 4,
   "metadata": {},
   "outputs": [
    {
     "name": "stdout",
     "output_type": "stream",
     "text": [
      "Training data index:  [    0     1     3 ... 39997 39998 39999]\n",
      "Test data index:  [    2    11    12 ... 39982 39983 39990]\n",
      "Training data index:  [    0     1     2 ... 39995 39997 39999]\n",
      "Test data index:  [    6    18    20 ... 39994 39996 39998]\n",
      "Training data index:  [    0     2     4 ... 39996 39997 39998]\n",
      "Test data index:  [    1     3     5 ... 39987 39995 39999]\n",
      "Training data index:  [    1     2     3 ... 39996 39998 39999]\n",
      "Test data index:  [    0     4     7 ... 39988 39993 39997]\n",
      "Training data index:  [    0     1     2 ... 39997 39998 39999]\n",
      "Test data index:  [    9    14    16 ... 39951 39957 39976]\n",
      "f1_score mean accuracy of the k-fold validation model: 0.717434154108551\n",
      "Jaccard mean accuracy of the k-fold validation model: 0.93485\n"
     ]
    }
   ],
   "source": [
    "from sklearn.model_selection import KFold\n",
    "from sklearn.model_selection import cross_val_predict \n",
    "from sklearn.tree import DecisionTreeClassifier\n",
    "from sklearn import metrics\n",
    "\n",
    "\n",
    "\n",
    "#cross validation with kf=5 \n",
    "\n",
    "kf = KFold(n_splits=5,  random_state=50, shuffle=True)\n",
    "acc_scores_f1 = []\n",
    "acc_scores_jaccard =  []\n",
    "for train_index, test_index in kf.split(X, y): \n",
    "    \n",
    "    print(\"Training data index: \", train_index) \n",
    "    print(\"Test data index: \", test_index) \n",
    " \n",
    "    X_train, X_test, y_train, y_test = X.iloc[train_index], X.iloc[test_index ], y.iloc[train_index], y.iloc[test_index]\n",
    "\n",
    "    #print(X_test.isnull().values.any())\n",
    "    model = DecisionTreeClassifier(criterion=\"entropy\", max_depth = 8).fit(X_train, y_train) \n",
    "  \n",
    "\n",
    "    preds = model.predict(X_test)\n",
    "    acc_scores_f1.append(metrics.f1_score(y_test,preds, average = None))\n",
    "    acc_scores_jaccard.append(metrics.accuracy_score(y_test,preds))\n",
    "    \n",
    "print(\"f1_score mean accuracy of the k-fold validation model:\" , np.mean(acc_scores_f1))\n",
    "print(\"Jaccard mean accuracy of the k-fold validation model:\" , np.mean(acc_scores_jaccard))\n"
   ]
  },
  {
   "cell_type": "code",
   "execution_count": 5,
   "metadata": {},
   "outputs": [
    {
     "name": "stdout",
     "output_type": "stream",
     "text": [
      "prediction counts\n"
     ]
    },
    {
     "data": {
      "image/png": "[encoded data removed]",
      "text/plain": [
       "<Figure size 432x288 with 1 Axes>"
      ]
     },
     "metadata": {
      "needs_background": "light"
     },
     "output_type": "display_data"
    }
   ],
   "source": [
    "import seaborn as sns\n",
    "import matplotlib.pyplot as plt \n",
    "\n",
    "sns.countplot(preds)\n",
    "print(\"prediction counts\")"
   ]
  },
  {
   "cell_type": "code",
   "execution_count": null,
   "metadata": {},
   "outputs": [],
   "source": []
  }
 ],
 "metadata": {
  "kernelspec": {
   "display_name": "Python 3",
   "language": "python",
   "name": "python3"
  },
  "language_info": {
   "codemirror_mode": {
    "name": "ipython",
    "version": 3
   },
   "file_extension": ".py",
   "mimetype": "text/x-python",
   "name": "python",
   "nbconvert_exporter": "python",
   "pygments_lexer": "ipython3",
   "version": "3.8.3"
  }
 },
 "nbformat": 4,
 "nbformat_minor": 4
}
